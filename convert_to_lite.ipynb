{
 "cells": [
  {
   "cell_type": "code",
   "execution_count": 1,
   "metadata": {},
   "outputs": [],
   "source": [
    "import tensorflow as tf\n",
    "from tensorflow import keras\n",
    "import numpy as np"
   ]
  },
  {
   "cell_type": "code",
   "execution_count": 2,
   "metadata": {},
   "outputs": [
    {
     "name": "stdout",
     "output_type": "stream",
     "text": [
      "2.14.0\n"
     ]
    }
   ],
   "source": [
    "print(tf.__version__)"
   ]
  },
  {
   "cell_type": "code",
   "execution_count": 3,
   "metadata": {},
   "outputs": [
    {
     "name": "stdout",
     "output_type": "stream",
     "text": [
      "INFO:tensorflow:Assets written to: /var/folders/mz/9brv5k350y9dd73hr1vl2l5w0000gn/T/tmpn5nv746f/assets\n"
     ]
    },
    {
     "name": "stderr",
     "output_type": "stream",
     "text": [
      "INFO:tensorflow:Assets written to: /var/folders/mz/9brv5k350y9dd73hr1vl2l5w0000gn/T/tmpn5nv746f/assets\n",
      "2023-10-17 21:13:35.312587: W tensorflow/compiler/mlir/lite/python/tf_tfl_flatbuffer_helpers.cc:378] Ignored output_format.\n",
      "2023-10-17 21:13:35.312599: W tensorflow/compiler/mlir/lite/python/tf_tfl_flatbuffer_helpers.cc:381] Ignored drop_control_dependency.\n",
      "2023-10-17 21:13:35.312973: I tensorflow/cc/saved_model/reader.cc:83] Reading SavedModel from: /var/folders/mz/9brv5k350y9dd73hr1vl2l5w0000gn/T/tmpn5nv746f\n",
      "2023-10-17 21:13:35.313354: I tensorflow/cc/saved_model/reader.cc:51] Reading meta graph with tags { serve }\n",
      "2023-10-17 21:13:35.313359: I tensorflow/cc/saved_model/reader.cc:146] Reading SavedModel debug info (if present) from: /var/folders/mz/9brv5k350y9dd73hr1vl2l5w0000gn/T/tmpn5nv746f\n",
      "2023-10-17 21:13:35.314272: I tensorflow/compiler/mlir/mlir_graph_optimization_pass.cc:382] MLIR V1 optimization pass is not enabled\n",
      "2023-10-17 21:13:35.314656: I tensorflow/cc/saved_model/loader.cc:233] Restoring SavedModel bundle.\n",
      "2023-10-17 21:13:35.416837: I tensorflow/cc/saved_model/loader.cc:217] Running initialization op on SavedModel bundle at path: /var/folders/mz/9brv5k350y9dd73hr1vl2l5w0000gn/T/tmpn5nv746f\n",
      "2023-10-17 21:13:35.422163: I tensorflow/cc/saved_model/loader.cc:316] SavedModel load for tags { serve }; Status: success: OK. Took 109191 microseconds.\n",
      "2023-10-17 21:13:35.430723: I tensorflow/compiler/mlir/tensorflow/utils/dump_mlir_util.cc:269] disabling MLIR crash reproducer, set env var `MLIR_CRASH_REPRODUCER_DIRECTORY` to enable.\n"
     ]
    }
   ],
   "source": [
    "model = keras.models.load_model('dino_dragon_10_0.899.h5')\n",
    "\n",
    "converter = tf.lite.TFLiteConverter.from_keras_model(model)\n",
    "tflite_model = converter.convert()\n",
    "\n",
    "with open('dino_dragon.tflite', 'wb') as f_out:\n",
    "    f_out.write(tflite_model)"
   ]
  },
  {
   "cell_type": "code",
   "execution_count": 4,
   "metadata": {},
   "outputs": [],
   "source": [
    "import tensorflow.lite as tflite\n"
   ]
  },
  {
   "cell_type": "code",
   "execution_count": 5,
   "metadata": {},
   "outputs": [
    {
     "name": "stderr",
     "output_type": "stream",
     "text": [
      "INFO: Created TensorFlow Lite XNNPACK delegate for CPU.\n"
     ]
    }
   ],
   "source": [
    "interpreter = tflite.Interpreter(model_path='dino_dragon.tflite')\n",
    "interpreter.allocate_tensors()\n",
    "    "
   ]
  },
  {
   "cell_type": "code",
   "execution_count": 6,
   "metadata": {},
   "outputs": [
    {
     "data": {
      "text/plain": "[{'name': 'serving_default_conv2d_input:0',\n  'index': 0,\n  'shape': array([  1, 150, 150,   3], dtype=int32),\n  'shape_signature': array([ -1, 150, 150,   3], dtype=int32),\n  'dtype': numpy.float32,\n  'quantization': (0.0, 0),\n  'quantization_parameters': {'scales': array([], dtype=float32),\n   'zero_points': array([], dtype=int32),\n   'quantized_dimension': 0},\n  'sparsity_parameters': {}}]"
     },
     "execution_count": 6,
     "metadata": {},
     "output_type": "execute_result"
    }
   ],
   "source": [
    "interpreter.get_input_details()"
   ]
  },
  {
   "cell_type": "code",
   "execution_count": 7,
   "metadata": {},
   "outputs": [
    {
     "data": {
      "text/plain": "[{'name': 'StatefulPartitionedCall:0',\n  'index': 13,\n  'shape': array([1, 1], dtype=int32),\n  'shape_signature': array([-1,  1], dtype=int32),\n  'dtype': numpy.float32,\n  'quantization': (0.0, 0),\n  'quantization_parameters': {'scales': array([], dtype=float32),\n   'zero_points': array([], dtype=int32),\n   'quantized_dimension': 0},\n  'sparsity_parameters': {}}]"
     },
     "execution_count": 7,
     "metadata": {},
     "output_type": "execute_result"
    }
   ],
   "source": [
    "interpreter.get_output_details()\n"
   ]
  },
  {
   "cell_type": "code",
   "execution_count": 8,
   "metadata": {},
   "outputs": [
    {
     "data": {
      "text/plain": "(0, 13)"
     },
     "execution_count": 8,
     "metadata": {},
     "output_type": "execute_result"
    }
   ],
   "source": [
    "input_index = interpreter.get_input_details()[0]['index']\n",
    "output_index = interpreter.get_output_details()[0]['index']\n",
    "input_index, output_index"
   ]
  },
  {
   "cell_type": "code",
   "execution_count": 9,
   "metadata": {},
   "outputs": [],
   "source": [
    "def preprocess_image(image,target_size=(150,150)):\n",
    "    img = Image.open(image)\n",
    "    if img.mode != 'RGB':\n",
    "        img = img.convert('RGB')\n",
    "    img = img.resize(target_size, Image.NEAREST)\n",
    "    img_arr = np.array(img) / 255.0  # Normalize pixel values to [0, 1]\n",
    "    return img_arr"
   ]
  },
  {
   "cell_type": "code",
   "execution_count": 10,
   "metadata": {},
   "outputs": [
    {
     "data": {
      "text/plain": "array([[[0.55294118, 0.31764706, 0.17647059],\n        [0.57254902, 0.34117647, 0.17647059],\n        [0.56470588, 0.3254902 , 0.14901961],\n        ...,\n        [0.07058824, 0.02745098, 0.01960784],\n        [0.07058824, 0.03921569, 0.02745098],\n        [0.10980392, 0.04705882, 0.04705882]],\n\n       [[0.51372549, 0.28235294, 0.14901961],\n        [0.55294118, 0.30980392, 0.15686275],\n        [0.58039216, 0.34901961, 0.18431373],\n        ...,\n        [0.05882353, 0.04313725, 0.03137255],\n        [0.05490196, 0.02352941, 0.01176471],\n        [0.09803922, 0.03529412, 0.03921569]],\n\n       [[0.50588235, 0.29411765, 0.15294118],\n        [0.56862745, 0.34117647, 0.19607843],\n        [0.55686275, 0.32156863, 0.17647059],\n        ...,\n        [0.0745098 , 0.02745098, 0.02745098],\n        [0.09019608, 0.03529412, 0.03137255],\n        [0.0745098 , 0.03529412, 0.03137255]],\n\n       ...,\n\n       [[0.29803922, 0.41960784, 0.36078431],\n        [0.4       , 0.36078431, 0.35294118],\n        [0.42745098, 0.48235294, 0.35294118],\n        ...,\n        [0.38823529, 0.15686275, 0.02352941],\n        [0.30588235, 0.10196078, 0.01960784],\n        [0.39607843, 0.26666667, 0.09019608]],\n\n       [[0.2627451 , 0.45098039, 0.49019608],\n        [0.31764706, 0.25098039, 0.18823529],\n        [0.34901961, 0.57254902, 0.43529412],\n        ...,\n        [0.38823529, 0.18039216, 0.02352941],\n        [0.31372549, 0.10196078, 0.        ],\n        [0.21176471, 0.05098039, 0.10588235]],\n\n       [[0.30980392, 0.2745098 , 0.34117647],\n        [0.09019608, 0.0745098 , 0.        ],\n        [0.32156863, 0.20784314, 0.22352941],\n        ...,\n        [0.18823529, 0.        , 0.02745098],\n        [0.37254902, 0.20784314, 0.05882353],\n        [0.35294118, 0.15294118, 0.03921569]]])"
     },
     "execution_count": 10,
     "metadata": {},
     "output_type": "execute_result"
    }
   ],
   "source": [
    "from PIL import Image\n",
    "img_path = 'Smaug_par_David_Demaret.jpg'\n",
    "\n",
    "prep_img = preprocess_image(img_path)\n",
    "prep_img"
   ]
  },
  {
   "cell_type": "code",
   "execution_count": 11,
   "metadata": {},
   "outputs": [],
   "source": [
    "\n",
    "X = np.float32(np.array([prep_img]))"
   ]
  },
  {
   "cell_type": "code",
   "execution_count": 12,
   "metadata": {},
   "outputs": [],
   "source": [
    "interpreter.set_tensor(input_index, X)\n"
   ]
  },
  {
   "cell_type": "code",
   "execution_count": 13,
   "metadata": {},
   "outputs": [],
   "source": [
    "interpreter.invoke()\n",
    "preds = interpreter.get_tensor(output_index)"
   ]
  },
  {
   "cell_type": "code",
   "execution_count": 14,
   "metadata": {},
   "outputs": [
    {
     "data": {
      "text/plain": "array([[0.82448524]], dtype=float32)"
     },
     "execution_count": 14,
     "metadata": {},
     "output_type": "execute_result"
    }
   ],
   "source": [
    "preds"
   ]
  },
  {
   "cell_type": "code",
   "execution_count": null,
   "metadata": {},
   "outputs": [],
   "source": []
  }
 ],
 "metadata": {
  "kernelspec": {
   "display_name": "Python 3 (ipykernel)",
   "language": "python",
   "name": "python3"
  },
  "language_info": {
   "codemirror_mode": {
    "name": "ipython",
    "version": 3
   },
   "file_extension": ".py",
   "mimetype": "text/x-python",
   "name": "python",
   "nbconvert_exporter": "python",
   "pygments_lexer": "ipython3",
   "version": "3.9.17"
  }
 },
 "nbformat": 4,
 "nbformat_minor": 4
}
